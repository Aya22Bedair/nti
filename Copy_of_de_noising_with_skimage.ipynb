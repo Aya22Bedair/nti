{
  "nbformat": 4,
  "nbformat_minor": 0,
  "metadata": {
    "colab": {
      "provenance": [],
      "authorship_tag": "ABX9TyOaJcjR/ouEBbKeWykMAeM9",
      "include_colab_link": true
    },
    "kernelspec": {
      "name": "python3",
      "display_name": "Python 3"
    },
    "language_info": {
      "name": "python"
    },
    "accelerator": "GPU",
    "gpuClass": "standard"
  },
  "cells": [
    {
      "cell_type": "markdown",
      "metadata": {
        "id": "view-in-github",
        "colab_type": "text"
      },
      "source": [
        "<a href=\"https://colab.research.google.com/github/Aya22Bedair/nti/blob/main/Copy_of_de_noising_with_skimage.ipynb\" target=\"_parent\"><img src=\"https://colab.research.google.com/assets/colab-badge.svg\" alt=\"Open In Colab\"/></a>"
      ]
    },
    {
      "cell_type": "code",
      "execution_count": null,
      "metadata": {
        "id": "vcNJ_VAlvA9J"
      },
      "outputs": [],
      "source": [
        "import numpy as np\n",
        "import pandas as pd\n",
        "import matplotlib.pyplot as plt\n",
        "import tensorflow as tf\n",
        "\n",
        "from sklearn.linear_model import LinearRegression\n",
        "from sklearn.model_selection import train_test_split\n",
        "from sklearn.preprocessing import MinMaxScaler\n",
        "\n",
        "import keras\n",
        "from keras.models import Sequential\n",
        "from keras.layers import Dense\n",
        "from keras.datasets import mnist\n",
        "from keras import backend\n",
        "\n",
        "from skimage.util import random_noise\n",
        "from sklearn.metrics import mean_squared_error,r2_score,mean_absolute_error,mean_squared_error"
      ]
    },
    {
      "cell_type": "code",
      "source": [
        "(x_train, y_train),(x_test, y_test) = mnist.load_data()"
      ],
      "metadata": {
        "id": "yXkUUCj2wTPl",
        "colab": {
          "base_uri": "https://localhost:8080/"
        },
        "outputId": "e8feb15d-69ba-40c9-8de4-5390a3b2cb4f"
      },
      "execution_count": null,
      "outputs": [
        {
          "output_type": "stream",
          "name": "stdout",
          "text": [
            "Downloading data from https://storage.googleapis.com/tensorflow/tf-keras-datasets/mnist.npz\n",
            "11490434/11490434 [==============================] - 2s 0us/step\n"
          ]
        }
      ]
    },
    {
      "cell_type": "code",
      "source": [
        "x_train.shape"
      ],
      "metadata": {
        "colab": {
          "base_uri": "https://localhost:8080/"
        },
        "id": "WcZFpinHwoFZ",
        "outputId": "36688fa9-9f41-4050-d60e-308629b8d00a"
      },
      "execution_count": null,
      "outputs": [
        {
          "output_type": "execute_result",
          "data": {
            "text/plain": [
              "(60000, 28, 28)"
            ]
          },
          "metadata": {},
          "execution_count": 3
        }
      ]
    },
    {
      "cell_type": "code",
      "source": [
        "x_train_noise=noise_img = random_noise(x_train, mode='s&p', amount=0.3)\n",
        "x_test_noise=noise_img = random_noise(x_test, mode='s&p', amount=0.3)"
      ],
      "metadata": {
        "id": "47jOl6HwvYX8"
      },
      "execution_count": null,
      "outputs": []
    },
    {
      "cell_type": "code",
      "source": [
        "plt.imshow(x_train_noise[10])"
      ],
      "metadata": {
        "colab": {
          "base_uri": "https://localhost:8080/",
          "height": 447
        },
        "id": "xM-_8Firwmcx",
        "outputId": "4d59c501-b62e-426f-a49c-f54997b212c4"
      },
      "execution_count": null,
      "outputs": [
        {
          "output_type": "execute_result",
          "data": {
            "text/plain": [
              "<matplotlib.image.AxesImage at 0x7fb70e9aeac0>"
            ]
          },
          "metadata": {},
          "execution_count": 5
        },
        {
          "output_type": "display_data",
          "data": {
            "text/plain": [
              "<Figure size 640x480 with 1 Axes>"
            ],
            "image/png": "[encoded data removed]"
          },
          "metadata": {}
        }
      ]
    },
    {
      "cell_type": "code",
      "source": [
        "x_train = x_train.reshape(-1,28*28)/255\n",
        "x_test = x_test.reshape(-1,28*28)/255\n",
        "\n",
        "x_train_noise=x_train_noise.reshape(-1,28*28)/255\n",
        "x_test_noise=x_test_noise.reshape(-1,28*28)/255\n",
        "     "
      ],
      "metadata": {
        "id": "Uol4nQkMyS-n"
      },
      "execution_count": null,
      "outputs": []
    },
    {
      "cell_type": "code",
      "source": [
        "config = tf.compat.v1.ConfigProto(device_count={'GPU':1})\n",
        "sess = tf.compat.v1.Session(config=config)\n",
        "backend.set_session(sess)"
      ],
      "metadata": {
        "id": "HNnn1vmf21s8"
      },
      "execution_count": null,
      "outputs": []
    },
    {
      "cell_type": "code",
      "source": [
        "model = Sequential()\n",
        "model.add(Dense(784,input_dim=784,activation='relu'))\n",
        "model.add(Dense(256,activation='relu'))\n",
        "model.add(Dense(128,activation='relu'))\n",
        "model.add(Dense(32,activation='relu'))\n",
        "model.add(Dense(128,input_dim=784,activation='relu'))\n",
        "model.add(Dense(256,activation='relu'))\n",
        "model.add(Dense(784,activation='sigmoid'))\n",
        "\n"
      ],
      "metadata": {
        "id": "RMcWrWOIyLH3"
      },
      "execution_count": null,
      "outputs": []
    },
    {
      "cell_type": "code",
      "source": [
        "model.compile(optimizer='adam', loss='binary_crossentropy')\n"
      ],
      "metadata": {
        "id": "0DnyGy3Xzp6_"
      },
      "execution_count": null,
      "outputs": []
    },
    {
      "cell_type": "code",
      "source": [
        "res = model.fit(x_train_noise,x_train, batch_size=256, epochs=50,verbose=1, validation_data=[x_test_noise,x_test])"
      ],
      "metadata": {
        "colab": {
          "base_uri": "https://localhost:8080/"
        },
        "id": "8vDb8jYr0Pyx",
        "outputId": "026e8ad7-f4da-49c8-ab2e-48b539b5fad5"
      },
      "execution_count": null,
      "outputs": [
        {
          "output_type": "stream",
          "name": "stdout",
          "text": [
            "Epoch 1/50\n",
            "235/235 [==============================] - 9s 7ms/step - loss: 0.3004 - val_loss: 0.2546\n",
            "Epoch 2/50\n",
            "235/235 [==============================] - 1s 5ms/step - loss: 0.2454 - val_loss: 0.2336\n",
            "Epoch 3/50\n",
            "235/235 [==============================] - 1s 6ms/step - loss: 0.2299 - val_loss: 0.2246\n",
            "Epoch 4/50\n",
            "235/235 [==============================] - 1s 5ms/step - loss: 0.2138 - val_loss: 0.2010\n",
            "Epoch 5/50\n",
            "235/235 [==============================] - 2s 7ms/step - loss: 0.1939 - val_loss: 0.1875\n",
            "Epoch 6/50\n",
            "235/235 [==============================] - 2s 7ms/step - loss: 0.1826 - val_loss: 0.1788\n",
            "Epoch 7/50\n",
            "235/235 [==============================] - 1s 5ms/step - loss: 0.1741 - val_loss: 0.1706\n",
            "Epoch 8/50\n",
            "235/235 [==============================] - 1s 6ms/step - loss: 0.1686 - val_loss: 0.1672\n",
            "Epoch 9/50\n",
            "235/235 [==============================] - 1s 6ms/step - loss: 0.1646 - val_loss: 0.1633\n",
            "Epoch 10/50\n",
            "235/235 [==============================] - 1s 5ms/step - loss: 0.1602 - val_loss: 0.1578\n",
            "Epoch 11/50\n",
            "235/235 [==============================] - 1s 6ms/step - loss: 0.1555 - val_loss: 0.1540\n",
            "Epoch 12/50\n",
            "235/235 [==============================] - 1s 6ms/step - loss: 0.1524 - val_loss: 0.1520\n",
            "Epoch 13/50\n",
            "235/235 [==============================] - 1s 5ms/step - loss: 0.1501 - val_loss: 0.1501\n",
            "Epoch 14/50\n",
            "235/235 [==============================] - 2s 7ms/step - loss: 0.1483 - val_loss: 0.1486\n",
            "Epoch 15/50\n",
            "235/235 [==============================] - 2s 7ms/step - loss: 0.1465 - val_loss: 0.1474\n",
            "Epoch 16/50\n",
            "235/235 [==============================] - 1s 5ms/step - loss: 0.1449 - val_loss: 0.1468\n",
            "Epoch 17/50\n",
            "235/235 [==============================] - 1s 5ms/step - loss: 0.1429 - val_loss: 0.1440\n",
            "Epoch 18/50\n",
            "235/235 [==============================] - 1s 5ms/step - loss: 0.1413 - val_loss: 0.1429\n",
            "Epoch 19/50\n",
            "235/235 [==============================] - 1s 5ms/step - loss: 0.1398 - val_loss: 0.1420\n",
            "Epoch 20/50\n",
            "235/235 [==============================] - 1s 5ms/step - loss: 0.1386 - val_loss: 0.1409\n",
            "Epoch 21/50\n",
            "235/235 [==============================] - 1s 5ms/step - loss: 0.1376 - val_loss: 0.1402\n",
            "Epoch 22/50\n",
            "235/235 [==============================] - 1s 5ms/step - loss: 0.1365 - val_loss: 0.1398\n",
            "Epoch 23/50\n",
            "235/235 [==============================] - 1s 6ms/step - loss: 0.1355 - val_loss: 0.1392\n",
            "Epoch 24/50\n",
            "235/235 [==============================] - 2s 7ms/step - loss: 0.1345 - val_loss: 0.1390\n",
            "Epoch 25/50\n",
            "235/235 [==============================] - 1s 5ms/step - loss: 0.1336 - val_loss: 0.1374\n",
            "Epoch 26/50\n",
            "235/235 [==============================] - 1s 6ms/step - loss: 0.1324 - val_loss: 0.1372\n",
            "Epoch 27/50\n",
            "235/235 [==============================] - 1s 5ms/step - loss: 0.1317 - val_loss: 0.1364\n",
            "Epoch 28/50\n",
            "235/235 [==============================] - 1s 6ms/step - loss: 0.1308 - val_loss: 0.1365\n",
            "Epoch 29/50\n",
            "235/235 [==============================] - 1s 5ms/step - loss: 0.1299 - val_loss: 0.1360\n",
            "Epoch 30/50\n",
            "235/235 [==============================] - 1s 5ms/step - loss: 0.1293 - val_loss: 0.1353\n",
            "Epoch 31/50\n",
            "235/235 [==============================] - 1s 5ms/step - loss: 0.1285 - val_loss: 0.1346\n",
            "Epoch 32/50\n",
            "235/235 [==============================] - 1s 6ms/step - loss: 0.1277 - val_loss: 0.1346\n",
            "Epoch 33/50\n",
            "235/235 [==============================] - 2s 7ms/step - loss: 0.1272 - val_loss: 0.1340\n",
            "Epoch 34/50\n",
            "235/235 [==============================] - 1s 6ms/step - loss: 0.1263 - val_loss: 0.1333\n",
            "Epoch 35/50\n",
            "235/235 [==============================] - 1s 5ms/step - loss: 0.1256 - val_loss: 0.1335\n",
            "Epoch 36/50\n",
            "235/235 [==============================] - 1s 5ms/step - loss: 0.1249 - val_loss: 0.1335\n",
            "Epoch 37/50\n",
            "235/235 [==============================] - 1s 5ms/step - loss: 0.1243 - val_loss: 0.1326\n",
            "Epoch 38/50\n",
            "235/235 [==============================] - 1s 5ms/step - loss: 0.1236 - val_loss: 0.1325\n",
            "Epoch 39/50\n",
            "235/235 [==============================] - 1s 5ms/step - loss: 0.1230 - val_loss: 0.1325\n",
            "Epoch 40/50\n",
            "235/235 [==============================] - 1s 5ms/step - loss: 0.1224 - val_loss: 0.1314\n",
            "Epoch 41/50\n",
            "235/235 [==============================] - 1s 5ms/step - loss: 0.1218 - val_loss: 0.1311\n",
            "Epoch 42/50\n",
            "235/235 [==============================] - 2s 7ms/step - loss: 0.1213 - val_loss: 0.1310\n",
            "Epoch 43/50\n",
            "235/235 [==============================] - 2s 7ms/step - loss: 0.1208 - val_loss: 0.1311\n",
            "Epoch 44/50\n",
            "235/235 [==============================] - 1s 5ms/step - loss: 0.1203 - val_loss: 0.1314\n",
            "Epoch 45/50\n",
            "235/235 [==============================] - 2s 7ms/step - loss: 0.1200 - val_loss: 0.1311\n",
            "Epoch 46/50\n",
            "235/235 [==============================] - 2s 7ms/step - loss: 0.1194 - val_loss: 0.1309\n",
            "Epoch 47/50\n",
            "235/235 [==============================] - 2s 6ms/step - loss: 0.1191 - val_loss: 0.1305\n",
            "Epoch 48/50\n",
            "235/235 [==============================] - 1s 5ms/step - loss: 0.1187 - val_loss: 0.1312\n",
            "Epoch 49/50\n",
            "235/235 [==============================] - 1s 5ms/step - loss: 0.1183 - val_loss: 0.1301\n",
            "Epoch 50/50\n",
            "235/235 [==============================] - 1s 6ms/step - loss: 0.1179 - val_loss: 0.1301\n"
          ]
        }
      ]
    },
    {
      "cell_type": "code",
      "execution_count": null,
      "metadata": {
        "id": "SZvpaKsXZl4j",
        "outputId": "24548e34-ccb0-4db1-9bf9-b48a20ca0fd2",
        "colab": {
          "base_uri": "https://localhost:8080/",
          "height": 447
        }
      },
      "outputs": [
        {
          "output_type": "execute_result",
          "data": {
            "text/plain": [
              "[<matplotlib.lines.Line2D at 0x7fb6ac328a00>]"
            ]
          },
          "metadata": {},
          "execution_count": 10
        },
        {
          "output_type": "display_data",
          "data": {
            "text/plain": [
              "<Figure size 640x480 with 1 Axes>"
            ],
            "image/png": "[encoded data removed]"
          },
          "metadata": {}
        }
      ],
      "source": [
        "plt.plot(res.history['loss'])\n",
        "plt.plot(res.history['val_loss'])"
      ]
    },
    {
      "cell_type": "code",
      "source": [
        "pred=model.predict(x_test_noise)"
      ],
      "metadata": {
        "colab": {
          "base_uri": "https://localhost:8080/"
        },
        "id": "IRG0nLHObhSh",
        "outputId": "705f6a82-4a7b-4699-e5e8-488206966d10"
      },
      "execution_count": null,
      "outputs": [
        {
          "output_type": "stream",
          "name": "stdout",
          "text": [
            "313/313 [==============================] - 1s 2ms/step\n"
          ]
        }
      ]
    },
    {
      "cell_type": "code",
      "source": [
        "plt.imshow(x_test_noise[0].reshape(28,28), cmap='gray')"
      ],
      "metadata": {
        "colab": {
          "base_uri": "https://localhost:8080/",
          "height": 447
        },
        "id": "Eynfgpph1fo8",
        "outputId": "e262852e-5446-44bc-b508-35b97c072c52"
      },
      "execution_count": null,
      "outputs": [
        {
          "output_type": "execute_result",
          "data": {
            "text/plain": [
              "<matplotlib.image.AxesImage at 0x7fb6ac2b25e0>"
            ]
          },
          "metadata": {},
          "execution_count": 12
        },
        {
          "output_type": "display_data",
          "data": {
            "text/plain": [
              "<Figure size 640x480 with 1 Axes>"
            ],
            "image/png": "[encoded data removed]"
          },
          "metadata": {}
        }
      ]
    },
    {
      "cell_type": "code",
      "source": [
        "plt.imshow(pred[0].reshape(28,28), cmap='gray')"
      ],
      "metadata": {
        "id": "h2TDiOX-2NQv",
        "outputId": "304751a8-e9ea-40cd-bb2a-7c3cec77ea14",
        "colab": {
          "base_uri": "https://localhost:8080/",
          "height": 447
        }
      },
      "execution_count": null,
      "outputs": [
        {
          "output_type": "execute_result",
          "data": {
            "text/plain": [
              "<matplotlib.image.AxesImage at 0x7fb6ac231550>"
            ]
          },
          "metadata": {},
          "execution_count": 13
        },
        {
          "output_type": "display_data",
          "data": {
            "text/plain": [
              "<Figure size 640x480 with 1 Axes>"
            ],
            "image/png": "[encoded data removed]"
          },
          "metadata": {}
        }
      ]
    }
  ]
}